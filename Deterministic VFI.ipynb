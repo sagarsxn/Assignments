{
 "cells": [
  {
   "cell_type": "markdown",
   "metadata": {},
   "source": [
    "# A First Crack at Value Function Iteration\n",
    "\n",
    "(Inspired from [here](https://www3.nd.edu/~esims1/val_fun_iter.pdf))\n",
    "\n",
    "Here's a simple Python script for finding the solution to a deterministic, infinit-horizon consumption problem. Please keep in mind that this script is optimized for intuition and understanding, rather than performance, so this might take some time to run.\n",
    "\n",
    "The sequence problem is defined as $$\\sum_{t=0}^{\\infty} \\beta^tu(c_t)$$ such that $$c_t + k_{t+1} \\leq k^\\alpha + (1-\\delta)k$$\n",
    "\n",
    "The utility function is given by $$u(c) = \\frac{c^{1-\\sigma} - 1}{1 - \\sigma}$$"
   ]
  },
  {
   "cell_type": "markdown",
   "metadata": {},
   "source": [
    "## Bellman Equation\n",
    "\n",
    "Rewrite the above as a recursive problem:\n",
    "\n",
    "$$ V(k) = \\max_c \\{u(c) + \\beta V(k_{+1})\\} $$\n",
    "\n",
    "I will assume that the constraint binds and that the choice variable is $k_{+1}$. This gives me\n",
    "\n",
    "$$ V(k) = \\max_{k_{+1}} \\left\\{\\frac{[k^\\alpha + (1-\\delta)k - k_{+1}]^{1-\\sigma} - 1}{1- \\sigma} + \\beta V(k_{+1})\\right\\} $$\n",
    "\n",
    "The objective of this exercise is to get the value function $V(k)$ and the policy function $K_{+1}(k)$. Since this is a numerical analysis, we will be solving for the shape of these functions (as opposed to functional forms). To plot the shape of these functions, we first need a domain a.k.a \"state space\". For each value of $k$ in this state space, we will be solving for what the maximum function $V$ and the choice function $K_{+1}$ look like.\n",
    "\n",
    "## The State Space\n",
    "\n",
    "While $V(k)$ and the policy function are continuous functions, we will need to specify a discrete domain (you can't plot an uncountable set). The general strategy seems to be to take 100 to 300 points, spaced evenly around the steady state value of $k = k^*$. Let's quickly solve for this steady state. \n",
    "\n",
    "\n",
    "From the Euler equation, $c^{-\\sigma} = \\beta c^{-\\sigma}_{+1}(\\alpha k^{\\alpha - 1}_{+1} + (1-\\delta))$. Setting $c= c_{+1} = c^*$, we get \n",
    "\n",
    "$$ \\left[\\frac{1}{\\beta} - (1 - \\delta) \\right]^{-1} = \\frac{1}{\\alpha}(k^*)^{1-\\alpha}$$\n",
    "\n",
    "OR \n",
    "\n",
    "$$k^* = \\alpha\\left[\\frac{1}{\\beta} - (1 - \\delta) \\right]^{-1}$$\n",
    "\n",
    "Let's calculate this in Python.\n",
    "\n"
   ]
  },
  {
   "cell_type": "code",
   "execution_count": 6,
   "metadata": {},
   "outputs": [
    {
     "name": "stdout",
     "output_type": "stream",
     "text": [
      "K_star =  8.07073891626\n"
     ]
    }
   ],
   "source": [
    "# Loading packages I will be using\n",
    "from __future__ import division\n",
    "import numpy as np\n",
    "from scipy.optimize import fminbound\n",
    "import matplotlib.pyplot as plt\n",
    "\n",
    "# Initializing Parameters\n",
    "alpha   = 0.333\n",
    "beta    = 0.984\n",
    "delta   = 0.025\n",
    "sigma   = 2\n",
    "\n",
    "# Steady State Capitak Stock\n",
    "k_star  = alpha*((1/beta) - (1 - delta))**(-1)\n",
    "print \"K_star = \", k_star "
   ]
  },
  {
   "cell_type": "markdown",
   "metadata": {},
   "source": [
    "Now, we can create our state space. To make this run fast, let's only consider a space with 100 points centered around the steady state capital stock value."
   ]
  },
  {
   "cell_type": "code",
   "execution_count": 9,
   "metadata": {},
   "outputs": [
    {
     "name": "stdout",
     "output_type": "stream",
     "text": [
      "Number of points in the state space =  100\n"
     ]
    }
   ],
   "source": [
    "points = 99\n",
    "Kmin, Kmax = k_star*0.25, k_star*1.75\n",
    "step_size = (Kmax - Kmin)/points\n",
    "state_space = np.arange(Kmin, Kmax+step_size, step_size) # Kmax ia aet to Kmax + step_size to make sure it is in the state space\n",
    "print \"Number of points in the state space = \", len(state_space)"
   ]
  },
  {
   "cell_type": "markdown",
   "metadata": {},
   "source": [
    "## The General Strategy\n",
    "Keeping in mind how a Bellman operator behaves, we just need to construct a function that starts off with a stupid guess for the value function $V$, and iterates enough times until we get close enough to the actual value function implied by the problem (note that this is guaranteed by Contraction Mapping Theorem). \n",
    "\n",
    "In each iteration, the value function will look like\n",
    "\n",
    "$$ V^n(k) = \\max_{k_{+1}} \\left\\{\\frac{[k^\\alpha + (1-\\delta)k - k_{+1}]^{1-\\sigma} - 1}{1- \\sigma} + \\beta V^{n-1}(k_{+1})\\right\\}$$\n",
    "\n",
    "I am going to call this equation ($\\ast$). \n",
    "\n",
    "Let's initialize our \"stupid\" guess for the value function. I will also initialize two other vectors - one for the final value function, and the other for the policy function. "
   ]
  },
  {
   "cell_type": "code",
   "execution_count": 15,
   "metadata": {
    "collapsed": true
   },
   "outputs": [],
   "source": [
    "# Initial guess of all zeroes\n",
    "V_0 = np.zeros(len(state_space)) \n",
    "\n",
    "# Initializing another vector to keep track of updated value function (post iteration)\n",
    "V_1 = np.zeros(len(state_space)) \n",
    "\n",
    "# Poilcy Function\n",
    "K_1 = np.zeros(len(state_space))"
   ]
  },
  {
   "cell_type": "markdown",
   "metadata": {},
   "source": [
    "## Defining the Value Function\n",
    "\n",
    "We will use the form of equation $(\\ast)$ above to update the value function after each iteration. Within each iteration, I will use scipy's **fminbound** function to find the value of $k_{+1}$ that maximizes the value function. Once I have this $k_{+1}$, which is the argmax of equation $(\\ast)$, I will calculate $V^n(k)$ and save it for the next iteration. But there is one small problem...\n",
    "\n",
    "### Problem with a Discrete Space\n",
    "To calculate $V^n(k)$, I need $V^{n-1}(k_{+1})$. But, we don't know the functional form of $V^{n-1}(\\cdot)$, and we only have values of $V^{n-1}(\\cdot)$ for a finite set of $k$'s. So, we will not be able to proceed if scipy's **fminbound** throws out an argmax $k_{+1}$, for which we don't have $V^{n-1}(k_{+1})$. This is where we use **linear interpolation**.\n",
    "\n",
    "### Linear Interpolation\n",
    "Suppose we have a $k_{+1}$ which is not in our grid, and therefore, we don't have a value $V^{n-1}(k_{+1})$ saved in our vector of values for $V^{n-1}$. To get this $V^{n-1}(k_{+1})$, we will estimate the equation of a line around $k_{+1}$ using values of $V^{n-1}$ for $k$ which are actually in our grid. \n",
    "\n",
    "The formula for this interpolation is given by:\n",
    "\n",
    "$$ V(k_{+1}) \\approx V(k(i)) + \\frac{V(k(i+1)) - V(k(i))}{k(i + 1) - k(i)}(k_{+1} - k(i))$$\n",
    "\n",
    "where $i$ and $(i+1)$ are the indices for values of capital directly above and below $k_{+1}$ that are also in our discrete state space.\n",
    "\n",
    "### Non-negative Consumption\n",
    "An implicit constraint on consumption is that it must not be negative. I will also incorporate this constraint into my code for the value function (basically, we will introduce a penalty on the maximizer **fminbound** if consumption dips below zero in any iteration).\n",
    "\n",
    "\n",
    "Finally, note that **fminbound** is designed to find the minimum. We can still use it find a max by multiplying its argument by -1."
   ]
  },
  {
   "cell_type": "code",
   "execution_count": null,
   "metadata": {
    "collapsed": true
   },
   "outputs": [],
   "source": [
    "# Defining the value function (which goes in as the argument to fminbound)\n",
    "def V(k1, k0):\n",
    "    # First, we need to interpolate the value of \n",
    "    below = (state_space < k1).sum() - 1 # Getting index of capital value directly below k\n",
    "    above = below + 1                     # Index for capital value directly above k\n",
    "\n",
    "    # Interpolation/Estimating V{n-1}(k) where k is the argmax from fminbound\n",
    "    V_minus_1 = V_0[below] + (k1 - state_space[below])*((V_0[above] - V_0[below])/(state_space[above] - state_space[below]))\n",
    "    \n",
    "    # Defining Consumption\n",
    "    C = k0**alpha + (1-delta)*k0 - k1\n",
    "    \n",
    "    # Introducing a heavy penalty on the value function if consumption is below zero\n",
    "    if C < 0:\n",
    "        value = -999999 - 999*np.abs(C)\n",
    "    else:\n",
    "        value = (1/(1-sigma))*(C**(1 - sigma) - 1) + beta*V_minus_1 # This is the value function\n",
    "        \n",
    "    # Output negative of value function since fminbound is minimizing    \n",
    "    return -1*value"
   ]
  },
  {
   "cell_type": "markdown",
   "metadata": {},
   "source": [
    "## The Contraction Loop\n",
    "\n",
    "I will run 300 iterations. In each iteration, I will loop over the vector \"state_space\". For each value of state space $k$, I will use **fminbound** to find the maximizing value $k_{+1}$. Once I have this $k_{+1}$, I will plug it into the value function, along with $k$ to get $V^n(k)$, and save this in my vector \"V_1\" as defined above. I will also save the value $k_{+1}$ in my vector containing the policy function. \n",
    "\n",
    "Finally, once I am done looping over all values of the state space, I will update the \"V_0\" vector using \"V_1\" vector to use it in the next iteration. "
   ]
  },
  {
   "cell_type": "code",
   "execution_count": null,
   "metadata": {
    "collapsed": true
   },
   "outputs": [],
   "source": [
    "# Initializing Iteration Count\n",
    "iters = 0\n",
    "while iters < 300:\n",
    "    for i in xrange(len(state_space)):\n",
    "        k0 = state_space[i]\n",
    "        k1 = float(fminbound(V, Kmin, Kmax, args=(k0,))) # Using Kmin and Kmax to define the bounds over which to optimize\n",
    "        V_1[i] = -1*V(k1, k0)\n",
    "        K_1[i] = k1\n",
    "    V_0 = V_1\n",
    "    iters += 1"
   ]
  },
  {
   "cell_type": "markdown",
   "metadata": {},
   "source": [
    "# AND WE ARE DONE!"
   ]
  },
  {
   "cell_type": "markdown",
   "metadata": {},
   "source": [
    "Let's run the entire thing at once, and also plot the value and policy functions.\n",
    "\n",
    "# FULL SCRIPT"
   ]
  },
  {
   "cell_type": "code",
   "execution_count": 2,
   "metadata": {},
   "outputs": [
    {
     "name": "stdout",
     "output_type": "stream",
     "text": [
      "K_star =  22.8923355199\n",
      "Number of points in the state space =  100\n"
     ]
    },
    {
     "data": {
      "image/png": "[encoded data removed]",
      "text/plain": [
       "<matplotlib.figure.Figure at 0x10d9bf4d0>"
      ]
     },
     "metadata": {},
     "output_type": "display_data"
    }
   ],
   "source": [
    "# Loading packages I will be using\n",
    "from __future__ import division\n",
    "import numpy as np\n",
    "from scipy.optimize import fminbound\n",
    "import matplotlib.pyplot as plt\n",
    "\n",
    "# Initializing Parameters\n",
    "alpha   = 0.333\n",
    "beta    = 0.984\n",
    "delta   = 0.025\n",
    "sigma   = 2\n",
    "\n",
    "# Steady State Capitak Stock\n",
    "k_star  = (alpha*((1/beta) - (1 - delta))**(-1))**(1/(1-alpha))\n",
    "print \"K_star = \", k_star \n",
    "\n",
    "points = 99\n",
    "Kmin, Kmax = k_star*0.25, k_star*1.75\n",
    "step_size = (Kmax - Kmin)/points\n",
    "state_space = np.arange(Kmin, Kmax+step_size, step_size)\n",
    "print \"Number of points in the state space = \", len(state_space)\n",
    "\n",
    "\n",
    "# Defining the value function (which goes in as the argument to fminbound)\n",
    "def V(k1, k0):\n",
    "    # First, we need to interpolate the value of \n",
    "    below = (state_space < k1).sum() - 1 # Getting index of capital value directly below k\n",
    "    above = below + 1                     # Index for capital value directly above k\n",
    "\n",
    "    # Interpolation/Estimating V{n-1}(k) where k is the argmax from fminbound\n",
    "    V_minus_1 = V_0[below] + (k1 - state_space[below])*((V_0[above] - V_0[below])/(state_space[above] - state_space[below]))\n",
    "    \n",
    "    # Defining Consumption\n",
    "    C = k0**alpha + (1-delta)*k0 - k1\n",
    "    \n",
    "    # Introducing a heavy penalty on the value function if consumption is below zero\n",
    "    if C < 0:\n",
    "        value = -999999 - 999*np.abs(C)\n",
    "    else:\n",
    "        value = (1/(1-sigma))*(C**(1 - sigma) - 1) + beta*V_minus_1 # This is the value function\n",
    "        \n",
    "    # Output negative of value function since fminbound is minimizing    \n",
    "    return -1*value\n",
    "\n",
    "# Initializing Iteration Count\n",
    "iters = 0\n",
    "# Initial guess of all zeroes\n",
    "V_0 = np.zeros(len(state_space))\n",
    "# Initializing another vector to keep track of updated value function (post iteration)\n",
    "V_1 = np.zeros(len(state_space)) \n",
    "# Poilcy Function\n",
    "K_1 = np.zeros(len(state_space))\n",
    "\n",
    "while iters < 300:\n",
    "    for i in xrange(len(state_space)):\n",
    "        k0 = state_space[i]\n",
    "        k1 = float(fminbound(V, Kmin, Kmax, args=(k0,))) # Using Kmin and Kmax to define the bounds over which to optimize\n",
    "        V_1[i] = -1*V(k1, k0)\n",
    "        K_1[i] = k1\n",
    "    V_0 = V_1\n",
    "    iters += 1\n",
    "    \n",
    "# Plotting\n",
    "import seaborn as sns\n",
    "%matplotlib inline\n",
    "fig = plt.figure(figsize=(12, 6))\n",
    "ax1 = fig.add_subplot(121)\n",
    "ax1.plot(state_space, V_1)\n",
    "ax1.set_title(\"Value Function\", fontsize = 16, weight = 'bold')\n",
    "ax1.set_xlabel('K', weight = 'bold', size = 14)\n",
    "\n",
    "ax2 = fig.add_subplot(122)\n",
    "ax2.plot(state_space, K_1)\n",
    "ax2.set_title(\"Policy Function K(+1)\", fontsize = 16, weight = 'bold')\n",
    "ax2.set_xlabel('K', weight = 'bold', size =14)\n",
    "plt.show()"
   ]
  },
  {
   "cell_type": "markdown",
   "metadata": {},
   "source": [
    "The value function is very smooth, thanks to the small size of our state space and linear interpolation. The policy function is almost the 45-degree line -- this is a good sign that our economy has reached its steady state where $k_t = k_{t+1} = k^*$."
   ]
  }
 ],
 "metadata": {
  "kernelspec": {
   "display_name": "Python 2",
   "language": "python",
   "name": "python2"
  },
  "language_info": {
   "codemirror_mode": {
    "name": "ipython",
    "version": 2
   },
   "file_extension": ".py",
   "mimetype": "text/x-python",
   "name": "python",
   "nbconvert_exporter": "python",
   "pygments_lexer": "ipython2",
   "version": "2.7.13"
  }
 },
 "nbformat": 4,
 "nbformat_minor": 2
}
